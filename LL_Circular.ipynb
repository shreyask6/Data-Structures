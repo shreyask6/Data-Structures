{
  "nbformat": 4,
  "nbformat_minor": 0,
  "metadata": {
    "colab": {
      "provenance": [],
      "authorship_tag": "ABX9TyMhYVJJS7Z+j6uZfLe7SXGg"
    },
    "kernelspec": {
      "name": "python3",
      "display_name": "Python 3"
    },
    "language_info": {
      "name": "python"
    }
  },
  "cells": [
    {
      "cell_type": "code",
      "execution_count": null,
      "metadata": {
        "colab": {
          "base_uri": "https://localhost:8080/"
        },
        "id": "F97y8TaEd3rX",
        "outputId": "e79269fa-26b6-40bf-a202-a9468ca021ca"
      },
      "outputs": [
        {
          "output_type": "stream",
          "name": "stdout",
          "text": [
            "LL:\n",
            "d\n",
            "c\n",
            "b\n",
            "a\n",
            "RLL:\n",
            "a\n",
            "b\n",
            "c\n",
            "LL:\n",
            "d\n",
            "c\n",
            "b\n"
          ]
        }
      ],
      "source": [
        "class node:\n",
        "  def __init__(self,data):\n",
        "    self.data = data\n",
        "    self.next = None\n",
        "    self.prev = None\n",
        "\n",
        "class LLC:\n",
        "  def __init__(self):\n",
        "    self.head = None\n",
        "    self.end = None\n",
        "\n",
        "  def printLL(self):\n",
        "    if self.head != None:\n",
        "      print(\"LL:\")\n",
        "      cur = self.head\n",
        "      print(cur.data)\n",
        "      cur = cur.next\n",
        "      while(cur != self.head):\n",
        "        print(cur.data)\n",
        "        cur = cur.next\n",
        "    else:\n",
        "      print(\"LL is empty\")\n",
        "\n",
        "  def rprintLL(self):\n",
        "    if self.head != None:\n",
        "      print(\"RLL:\")\n",
        "      cur = self.end\n",
        "      print(cur.data)\n",
        "      cur = cur.prev\n",
        "      while(cur != self.head):\n",
        "        print(cur.data)\n",
        "        cur = cur.prev\n",
        "    else:\n",
        "      print(\"LL is empty\")\n",
        "\n",
        "  def insertbeg(self,data):\n",
        "    new = node(data)\n",
        "    if self.head == None:\n",
        "      self.head = new\n",
        "      self.end = new\n",
        "      new.next = new\n",
        "      new.prev = new\n",
        "    else:\n",
        "      new.next = self.head\n",
        "      self.head.prev = new\n",
        "      new.prev = self.end\n",
        "      self.end.next = new\n",
        "      self.head = new\n",
        "\n",
        "  def delend(self):\n",
        "    if self.head == None:\n",
        "      print(\"LL Empty\")\n",
        "    else:\n",
        "      self.end.prev.next = self.head\n",
        "      self.end = self.end.prev\n",
        "      self.head.prev = self.end\n",
        "\n",
        "ll1 = LLC()\n",
        "ll1.insertbeg('a')\n",
        "ll1.insertbeg('b')\n",
        "ll1.insertbeg('c')\n",
        "ll1.insertbeg('d')\n",
        "ll1.printLL()\n",
        "ll1.rprintLL()\n",
        "ll1.delend()\n",
        "ll1.printLL()"
      ]
    },
    {
      "cell_type": "code",
      "source": [
        "class Stack:\n",
        "    def __init__(self):\n",
        "        self.stack = []\n",
        "\n",
        "    def push(self, item):\n",
        "        self.stack[len(self.stack):] = [item]\n",
        "\n",
        "    def pop(self):\n",
        "        if len(self.stack) == 0:\n",
        "            return None\n",
        "        else:\n",
        "            item = self.stack[-1]\n",
        "            self.stack[len(self.stack)-1:] = []\n",
        "            return item\n",
        "\n",
        "    def display(self):\n",
        "        for i in range(len(self.stack)-1, -1, -1):\n",
        "            print(self.stack[i])\n",
        "s = Stack()\n",
        "s.push(1)\n",
        "s.push(2)\n",
        "s.push(3)\n",
        "s.display()  # prints 3 2 1\n",
        "s.pop()\n",
        "s.display()  # prints 2 1\n"
      ],
      "metadata": {
        "colab": {
          "base_uri": "https://localhost:8080/"
        },
        "id": "DfzqfwcBqVx9",
        "outputId": "8f750cff-cde1-4593-fdd9-ec2ceb61fbf9"
      },
      "execution_count": null,
      "outputs": [
        {
          "output_type": "stream",
          "name": "stdout",
          "text": [
            "3\n",
            "2\n",
            "1\n",
            "2\n",
            "1\n"
          ]
        }
      ]
    }
  ]
}