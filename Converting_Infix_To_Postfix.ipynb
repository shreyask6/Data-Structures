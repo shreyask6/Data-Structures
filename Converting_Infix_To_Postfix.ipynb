{
  "nbformat": 4,
  "nbformat_minor": 0,
  "metadata": {
    "colab": {
      "provenance": []
    },
    "kernelspec": {
      "name": "python3",
      "display_name": "Python 3"
    },
    "language_info": {
      "name": "python"
    }
  },
  "cells": [
    {
      "cell_type": "code",
      "execution_count": null,
      "metadata": {
        "colab": {
          "base_uri": "https://localhost:8080/"
        },
        "id": "E6NLn0Tp7kPq",
        "outputId": "2889e8dd-fc39-4632-c491-c41c3e4bc34f"
      },
      "outputs": [
        {
          "output_type": "stream",
          "name": "stdout",
          "text": [
            "Infix Expression: (a+b)*c+d\n",
            "Postfix Expression: ab+c*d+\n"
          ]
        }
      ],
      "source": [
        "def is_operator(char):\n",
        "  return char in {'+','-','*','/'}\n",
        "\n",
        "def precedence(operator):\n",
        "  if operator == '+' or operator == '-':\n",
        "    return 1\n",
        "  elif operator == '*' or operator == '/':\n",
        "    return 2\n",
        "  else:\n",
        "    return 0\n",
        "\n",
        "def infix_to_postfix(infix_expression):\n",
        "    stack = []\n",
        "    postfix_expression = []\n",
        "\n",
        "    for char in infix_expression:\n",
        "        if char.isalnum():\n",
        "          postfix_expression.append(char)\n",
        "        elif char == '(':\n",
        "          stack.append(char)\n",
        "        elif char == ')':\n",
        "          while stack and stack[-1] != '(':\n",
        "              postfix_expression.append(stack.pop())\n",
        "          stack.pop()\n",
        "        elif is_operator(char):\n",
        "            while stack and precedence(stack[-1]) >= precedence(char):\n",
        "                postfix_expression.append(stack.pop())\n",
        "            stack.append(char)\n",
        "    while stack:\n",
        "      postfix_expression.append(stack.pop())\n",
        "    return ''.join(postfix_expression)\n",
        "infix_expression = \"(a+b)*c+d\"\n",
        "postfix_expression = infix_to_postfix(infix_expression)\n",
        "print(\"Infix Expression:\", infix_expression)\n",
        "print(\"Postfix Expression:\", postfix_expression)"
      ]
    }
  ]
}